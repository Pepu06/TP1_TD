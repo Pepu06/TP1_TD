{
 "cells": [
  {
   "cell_type": "code",
   "execution_count": 1,
   "metadata": {},
   "outputs": [],
   "source": [
    "def convertToBinary(x: int)-> int:\n",
    "    return int(bin(x)[2:]) # agarramos los digitos despues del segundo ya que bin(x) va a devlolver 0b...\n",
    "\n",
    "def simBP(x: int, y: int)-> str:\n",
    "    x:int = abs(x) # los convertimos a sus valores absolutos para no tener que lidiar con numeros negativos.\n",
    "    y:int = abs(y)\n",
    "    numeros_iguales: int = 0 # contador de cantidad de numeros consecutivos iguales en binario\n",
    "    bin_x = convertToBinary(x) # convertimos x a binario\n",
    "    bin_y = convertToBinary(y) # convertimos y a binario\n",
    "    x_to_str: str = str(bin_x) # convertimos x binario a string para poder ir caracter por caracter viendo si son iguales\n",
    "    y_to_str: str = str(bin_y) # convertimos y binario a string para poder ir caracter por caracter viendo si son iguales\n",
    "    ''' \n",
    "    nos fijamos si x en binario es una cadena de caracters mas corta que y. Hacemos esto para\n",
    "    resguardanos de caer fuera de la cadena de caracteres en nuestro for.\n",
    "    enumerate es una funcion incluida en python que permite convertir\n",
    "    strings a diccionarios en los cuales podemos recibir en i el indice actual del \n",
    "    string y en char el caracter actual del string en el loop.\n",
    "    '''\n",
    "    if(len(x_to_str) < len(y_to_str)): \n",
    "        for i, char in enumerate(x_to_str): # vamos caracter por caracter de izquierda a derecha\n",
    "            if x_to_str[i] == y_to_str[i]: # revisamos si el actual caracter en el en ambos es igual \n",
    "                numeros_iguales += 1 # en caso de ser iguales osea ambos 0 o ambos 1 sumamos 1 al contador\n",
    "            else: # en caso de que no sean iguales osea uno es 0 y otro 1 o vice versa\n",
    "                return numeros_iguales  # devolvemos el contador actual de simBP\n",
    "    elif(len(y_to_str) <= len(x_to_str)): # en caso de que y tenga menos caracters o iguales que x\n",
    "        for i, char in enumerate(y_to_str): # vamos caracter por caracter de izquierda a derecha usando y como marcador\n",
    "            if x_to_str[i] == y_to_str[i]: # revisamos si x en binario en el indice iesimo es igual a y en binario en el indice iesimo\n",
    "                numeros_iguales += 1 # en caso de ser asi sumamos 1 al contador\n",
    "            else:\n",
    "                return numeros_iguales # en caso de que x[i] != y[i] devolvemos el contador actual\n",
    "    return numeros_iguales\n",
    "\n",
    "def simBPIntervalo(n:int, a:int, b:int, k:int)->int:\n",
    "    # encontrar numeros entre a y b incluyendo a y b que tengan simbp(n, num) == k\n",
    "    nums: int= 0\n",
    "    for i in range(b+1):\n",
    "        arrancando_en_a: int = int(a + i)\n",
    "        if simBP(arrancando_en_a, n) == k:\n",
    "            nums += 1\n",
    "    return nums\n",
    "\n",
    "def fijarSimBPEnIntervalo(n: int, a:int, b:int, k:int)->bool:\n",
    "    if(simBPIntervalo(n, a, b, k) >= 1):\n",
    "        return True\n",
    "    else:\n",
    "        return False\n",
    "    \n",
    "def mayorSimBP(n: int, a: int, b:int) ->int:\n",
    "    num_mayor_sim_bp: int= 0\n",
    "    sim_bp_actual: int = 0\n",
    "    for i in range(b+1):\n",
    "        arrancando_en_a:int = i+a"
   ]
  },
  {
   "cell_type": "code",
   "execution_count": null,
   "metadata": {},
   "outputs": [],
   "source": []
  }
 ],
 "metadata": {
  "kernelspec": {
   "display_name": "Python 3",
   "language": "python",
   "name": "python3"
  },
  "language_info": {
   "codemirror_mode": {
    "name": "ipython",
    "version": 3
   },
   "file_extension": ".py",
   "mimetype": "text/x-python",
   "name": "python",
   "nbconvert_exporter": "python",
   "pygments_lexer": "ipython3",
   "version": "3.13.2"
  }
 },
 "nbformat": 4,
 "nbformat_minor": 2
}
